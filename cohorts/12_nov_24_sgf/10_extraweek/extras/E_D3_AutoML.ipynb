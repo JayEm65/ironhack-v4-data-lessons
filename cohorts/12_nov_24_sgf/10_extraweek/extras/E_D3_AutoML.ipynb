{
 "cells": [
  {
   "cell_type": "markdown",
   "metadata": {},
   "source": [
    "**Table of contents**<a id='toc0_'></a>    \n",
    "- [AutoML - PyCaret Quickstart](#toc1_)    \n",
    "- [Regression](#toc2_)    \n",
    "  - [Setting up an experiment](#toc2_1_)    \n",
    "      - [Preprocessing](#toc2_1_1_1_)    \n",
    "  - [Modelling](#toc2_2_)    \n",
    "  - [Model diagnostics](#toc2_3_)    \n",
    "  - [Model tracking](#toc2_4_)    \n",
    "  - [What comes next?](#toc2_5_)    \n",
    "- [Extra: Homework](#toc3_)    \n",
    "- [Resources](#toc4_)    \n",
    "\n",
    "<!-- vscode-jupyter-toc-config\n",
    "\tnumbering=false\n",
    "\tanchor=true\n",
    "\tflat=false\n",
    "\tminLevel=1\n",
    "\tmaxLevel=6\n",
    "\t/vscode-jupyter-toc-config -->\n",
    "<!-- THIS CELL WILL BE REPLACED ON TOC UPDATE. DO NOT WRITE YOUR TEXT IN THIS CELL -->"
   ]
  },
  {
   "cell_type": "markdown",
   "metadata": {},
   "source": [
    "# <a id='toc1_'></a>[AutoML - PyCaret Quickstart](#toc0_)"
   ]
  },
  {
   "cell_type": "code",
   "execution_count": 1,
   "metadata": {
    "colab": {
     "base_uri": "https://localhost:8080/"
    },
    "id": "om_wELaDewPB",
    "outputId": "cc793181-1674-4b61-cd92-e86072b149c2"
   },
   "outputs": [],
   "source": [
    "#!pip install pycaret\n",
    "#!pip install markupsafe==2.0.1\n",
    "#!pip install numpy==1.20\n",
    "#!pip install mlflow"
   ]
  },
  {
   "cell_type": "code",
   "execution_count": 2,
   "metadata": {},
   "outputs": [],
   "source": [
    "import numpy as np\n",
    "import pandas as pd\n",
    "import time\n",
    "from sklearn.impute import KNNImputer"
   ]
  },
  {
   "cell_type": "markdown",
   "metadata": {},
   "source": [
    "# <a id='toc2_'></a>[Regression](#toc0_)"
   ]
  },
  {
   "cell_type": "code",
   "execution_count": 3,
   "metadata": {},
   "outputs": [
    {
     "ename": "RuntimeError",
     "evalue": "('Pycaret only supports python 3.9, 3.10, 3.11. Your actual Python version: ', sys.version_info(major=3, minor=12, micro=6, releaselevel='final', serial=0), 'Please DOWNGRADE your Python version.')",
     "output_type": "error",
     "traceback": [
      "\u001b[1;31m---------------------------------------------------------------------------\u001b[0m",
      "\u001b[1;31mRuntimeError\u001b[0m                              Traceback (most recent call last)",
      "Cell \u001b[1;32mIn[3], line 1\u001b[0m\n\u001b[1;32m----> 1\u001b[0m \u001b[38;5;28;01mfrom\u001b[39;00m \u001b[38;5;21;01mpycaret\u001b[39;00m\u001b[38;5;21;01m.\u001b[39;00m\u001b[38;5;21;01mregression\u001b[39;00m \u001b[38;5;28;01mimport\u001b[39;00m \u001b[38;5;241m*\u001b[39m\n",
      "File \u001b[1;32mc:\\Users\\Marc Jay\\AppData\\Local\\Programs\\Python\\Python312\\Lib\\site-packages\\pycaret\\__init__.py:22\u001b[0m\n\u001b[0;32m     16\u001b[0m     \u001b[38;5;28;01mraise\u001b[39;00m \u001b[38;5;167;01mRuntimeError\u001b[39;00m(\n\u001b[0;32m     17\u001b[0m         \u001b[38;5;124m\"\u001b[39m\u001b[38;5;124mPycaret only supports python 3.9, 3.10, 3.11. Your actual Python version: \u001b[39m\u001b[38;5;124m\"\u001b[39m,\n\u001b[0;32m     18\u001b[0m         sys\u001b[38;5;241m.\u001b[39mversion_info,\n\u001b[0;32m     19\u001b[0m         \u001b[38;5;124m\"\u001b[39m\u001b[38;5;124mPlease UPGRADE your Python version.\u001b[39m\u001b[38;5;124m\"\u001b[39m,\n\u001b[0;32m     20\u001b[0m     )\n\u001b[0;32m     21\u001b[0m \u001b[38;5;28;01melif\u001b[39;00m sys\u001b[38;5;241m.\u001b[39mversion_info \u001b[38;5;241m>\u001b[39m\u001b[38;5;241m=\u001b[39m (\u001b[38;5;241m3\u001b[39m, \u001b[38;5;241m12\u001b[39m):\n\u001b[1;32m---> 22\u001b[0m     \u001b[38;5;28;01mraise\u001b[39;00m \u001b[38;5;167;01mRuntimeError\u001b[39;00m(\n\u001b[0;32m     23\u001b[0m         \u001b[38;5;124m\"\u001b[39m\u001b[38;5;124mPycaret only supports python 3.9, 3.10, 3.11. Your actual Python version: \u001b[39m\u001b[38;5;124m\"\u001b[39m,\n\u001b[0;32m     24\u001b[0m         sys\u001b[38;5;241m.\u001b[39mversion_info,\n\u001b[0;32m     25\u001b[0m         \u001b[38;5;124m\"\u001b[39m\u001b[38;5;124mPlease DOWNGRADE your Python version.\u001b[39m\u001b[38;5;124m\"\u001b[39m,\n\u001b[0;32m     26\u001b[0m     )\n",
      "\u001b[1;31mRuntimeError\u001b[0m: ('Pycaret only supports python 3.9, 3.10, 3.11. Your actual Python version: ', sys.version_info(major=3, minor=12, micro=6, releaselevel='final', serial=0), 'Please DOWNGRADE your Python version.')"
     ]
    }
   ],
   "source": [
    "from pycaret.regression import *"
   ]
  },
  {
   "cell_type": "code",
   "execution_count": null,
   "metadata": {
    "colab": {
     "base_uri": "https://localhost:8080/",
     "height": 206
    },
    "id": "PwtvHbLFfdC6",
    "outputId": "095651c4-04dd-4ce5-ff10-4eef170128fa"
   },
   "outputs": [],
   "source": [
    "housing_data = pd.read_csv('https://raw.githubusercontent.com/sabinagio/data-analytics/main/data/california_housing_census.csv')\n",
    "housing_data.shape"
   ]
  },
  {
   "cell_type": "code",
   "execution_count": null,
   "metadata": {},
   "outputs": [],
   "source": [
    "# Shrink the dataset to make experiments simpler, i.e. faster to run, hopefully\n",
    "housing = housing_data.copy().sample(500)\n",
    "print(housing.shape)"
   ]
  },
  {
   "cell_type": "markdown",
   "metadata": {},
   "source": [
    "## <a id='toc2_1_'></a>[Setting up an experiment](#toc0_)"
   ]
  },
  {
   "cell_type": "code",
   "execution_count": null,
   "metadata": {},
   "outputs": [],
   "source": [
    "# Exp with normalization, seed\n",
    "exp = setup(\n",
    "    housing, \n",
    "    target='median_house_value',\n",
    "    normalize=True, \n",
    "    # fold=5,\n",
    "    session_id=10,\n",
    "    log_experiment='mlflow', \n",
    "    log_plots=True, \n",
    "    log_data=True\n",
    "    )"
   ]
  },
  {
   "cell_type": "markdown",
   "metadata": {},
   "source": [
    "Most of this can be found in the full-on documentation: https://pycaret.readthedocs.io/en/stable/api/regression.html\n",
    "\n",
    "#### <a id='toc2_1_1_1_'></a>[Preprocessing](#toc0_)\n",
    "\n",
    "The cool thing about pycaret is that you can personalize a gazillion things off the bat. A couple of things that I found useful to work with:\n",
    "\n",
    "- `ordinal_features` - which features to be encoded ordinally. By default, pycaret uses One-Hot Encoding for all categorical features. \n",
    "\n",
    "- `max_encoding_ohe` - when to stop doing OHE. By default, if a categorical feature has more than 25 categories, pycaret defaults to target encoding. When dealing with a regression problem, target encoding takes the mean of the target per group (only in the training set!). When dealing with a classification problem, target encoding uses the probability of an outcome happening in each of the groups.\n",
    "\n",
    "- `ignore_features` - which features to ignore during modelling.\n",
    "\n",
    "- `keep_features` - which features to never remove during preprocessing. **Attention:** The moel might still have other features, this option is simply there so these features can't be removed.\n",
    "\n",
    "- `numeric_imputation`, `categorical_imputation` - to select how to fill in NaNs.\n",
    "\n",
    "- `remove_multicollinearity`, `multicollinearity_threshold` - uses Pearson (linear) correlation to remove highly correlated variables.\n",
    "\n",
    "- `remove_outliers`, `outliers_method` - this one doesn't remove outliers by [typical methods](https://archive.is/ruhhQ) but instead uses outlier detection algorithms such as `IsolationForest`, `EllipticEnvelope`, and `LocalOutlierFactor`\n",
    "\n",
    "- `normalize`, `normalize_method` - how to normalize/scale the data\n",
    "\n",
    "Other cool stuff:  \n",
    "\n",
    "- `polynomial_features`, `polynomial_degree` - whether to create new features using the polynomials of existing features.\n",
    "\n",
    "- `transformation`, `transformation_method` - whether to apply any transformation on the feature, in pycaret we have yeo-johnson (aka a log-transform adapted for negative values) and quantile transform (which I never used but it maps the current distribution into a to desired distribution). More easy to interpret transformations are sqrt and log transforms. There are separate options to transform the target, i.e. `transform_target` and `transform_target_method`.\n",
    "\n",
    "- `pca`, `pca_method`, `pca_components` - whether to apply PCA for feature extraction & compression.\n",
    "\n",
    "**Note:** While pycaret is great for doing blanket transformations over numerical/categorical variables, it starts to break down when you need a higher level of granularity, e.g. when you want to remove outliers/apply transformations only in certain columns. However, it's a great library to help you start off a project, i.e. get something up-and-running quickly."
   ]
  },
  {
   "cell_type": "code",
   "execution_count": null,
   "metadata": {},
   "outputs": [],
   "source": [
    "# You can access directly X_train, X_test, etc.\n",
    "exp.X_test  "
   ]
  },
  {
   "cell_type": "code",
   "execution_count": null,
   "metadata": {},
   "outputs": [],
   "source": [
    "exp.X_test_transformed"
   ]
  },
  {
   "cell_type": "code",
   "execution_count": null,
   "metadata": {},
   "outputs": [],
   "source": [
    "exp.get_config('seed')"
   ]
  },
  {
   "cell_type": "markdown",
   "metadata": {},
   "source": [
    "## <a id='toc2_2_'></a>[Modelling](#toc0_)"
   ]
  },
  {
   "cell_type": "markdown",
   "metadata": {},
   "source": [
    "PyCaret is great not only because it allows you to set a crazy amount of preprocessing options but also because it allows you to compare model performance crazy easy:"
   ]
  },
  {
   "cell_type": "code",
   "execution_count": null,
   "metadata": {
    "colab": {
     "base_uri": "https://localhost:8080/",
     "height": 645,
     "referenced_widgets": [
      "0eb23e20f6b04a86a58c1c193d5481fc",
      "4978b2c64187436ca294ef510263e668",
      "1eae4830d06e42a6b344a535ad2faf8a",
      "f05803c144ce4e74aad745fd5cf90426",
      "cf9ab3afd5814a4ebed76d31ef6d7568",
      "f293613faaba403190d78a2d7d0d211b",
      "62992922593e4d00b44b8c257a2b1972",
      "a06aa8e0d0864aabaa410e8f5d1f9eeb",
      "717ed9fe2201447d898da60d5ca0cdec",
      "9830d87c17924508be04be9a4313b1e4",
      "46d13fe25df942a1933620b297d40abe"
     ]
    },
    "id": "LsmZVfz2n_R6",
    "outputId": "75afb638-79ae-41b1-cfa4-d2457ce65ad9"
   },
   "outputs": [],
   "source": [
    "# This might take a while to run so feel free to include only 1 model!\n",
    "best_model = exp.compare_models(include=['lr', 'rf', 'xgboost', 'svm', 'knn'])\n",
    "\n",
    "# Models included:\n",
    "# lr = linear regression\n",
    "# rf = random forest\n",
    "# xgboost = extreme gradient boosting\n",
    "# svm = support vector machine\n",
    "# knn = k-nearest neighbours"
   ]
  },
  {
   "cell_type": "code",
   "execution_count": null,
   "metadata": {},
   "outputs": [],
   "source": [
    "best_model"
   ]
  },
  {
   "cell_type": "markdown",
   "metadata": {},
   "source": [
    "Modelling options when setting up experiments:  \n",
    "\n",
    "- `train_size` - to decide on the size of the training set \n",
    "\n",
    "- `fold_strategy`, `fold` - cross-validation strategy and number of folds  \n",
    "\n",
    "- `fold_shuffle` - random state for cross-validation"
   ]
  },
  {
   "cell_type": "code",
   "execution_count": null,
   "metadata": {},
   "outputs": [],
   "source": [
    "# By default, the cross-validation is 10-fold but we set it to 5 because of the small dataset\n",
    "lr_model = exp.create_model('lr')"
   ]
  },
  {
   "cell_type": "markdown",
   "metadata": {},
   "source": [
    "## <a id='toc2_3_'></a>[Model diagnostics](#toc0_)"
   ]
  },
  {
   "cell_type": "markdown",
   "metadata": {},
   "source": [
    "On top of being able to create, optimize, and save models, pycaret also enables you to run more complex model diagnostics through the help of the `yellowbrick` library ([super useful for ML visualizations](https://www.scikit-yb.org/en/latest/)):"
   ]
  },
  {
   "cell_type": "code",
   "execution_count": null,
   "metadata": {},
   "outputs": [],
   "source": [
    "exp.plot_model(best_model, plot='residuals')"
   ]
  },
  {
   "cell_type": "code",
   "execution_count": null,
   "metadata": {},
   "outputs": [],
   "source": [
    "exp.plot_model(best_model, 'feature')"
   ]
  },
  {
   "cell_type": "markdown",
   "metadata": {},
   "source": [
    "## <a id='toc2_4_'></a>[Model tracking](#toc0_)"
   ]
  },
  {
   "cell_type": "markdown",
   "metadata": {},
   "source": [
    "Lastly, now that we have so much capability because of the wonderful pycaret, how are we going to keep track of all the things we've tested? Easy, pycaret is readily integrated with the most popular open-source ML-tracking software, [MLFlow](https://mlflow.org/docs/latest/index.html) - so all you need to do is to set these parameters to `True` to begin saving your results:\n",
    "\n",
    "- `log_experiment` - if set to `True`, defaults to MLFlow, but if you want to be explicit you can also say `'mlflow'`  \n",
    "\n",
    "- `log_data` - whether to save the train/test sets as `.csv` files  \n",
    "\n",
    "- `log_plots` - whether to save the typical diagnostic plots"
   ]
  },
  {
   "cell_type": "markdown",
   "metadata": {},
   "source": [
    "To view the results from the experiments, run this command in your terminal, in the same directory as this notebook: `mlflow ui`.\n",
    "\n",
    "You will then see a link to the localhost, typically `http://localhost:5000`, which you can click on!"
   ]
  },
  {
   "cell_type": "markdown",
   "metadata": {},
   "source": [
    "## <a id='toc2_5_'></a>[What comes next?](#toc0_)"
   ]
  },
  {
   "cell_type": "markdown",
   "metadata": {},
   "source": [
    "After we evaluated all these models and picked the one that suits us the most, it's time to get it ready for production!"
   ]
  },
  {
   "cell_type": "markdown",
   "metadata": {},
   "source": [
    "As we want models to see as much data as possible, we will now finally be able to re-train our model on the full sample of data!"
   ]
  },
  {
   "cell_type": "code",
   "execution_count": null,
   "metadata": {},
   "outputs": [],
   "source": [
    "X = pd.concat([exp.X_train_transformed, exp.X_test_transformed], axis=0)\n",
    "y = pd.concat([exp.y_train_transformed, exp.y_test_transformed], axis=0)"
   ]
  },
  {
   "cell_type": "code",
   "execution_count": null,
   "metadata": {},
   "outputs": [],
   "source": [
    "best_model.fit(X, y)"
   ]
  },
  {
   "cell_type": "code",
   "execution_count": null,
   "metadata": {},
   "outputs": [],
   "source": [
    "import pickle\n",
    "\n",
    "pickle.dump(best_model, open('best_model.pkl', 'wb'))"
   ]
  },
  {
   "cell_type": "code",
   "execution_count": null,
   "metadata": {},
   "outputs": [],
   "source": [
    "best_model = pickle.load(open('best_model.pkl', 'rb'))"
   ]
  },
  {
   "cell_type": "code",
   "execution_count": null,
   "metadata": {},
   "outputs": [],
   "source": [
    "best_model"
   ]
  },
  {
   "cell_type": "markdown",
   "metadata": {},
   "source": [
    "# <a id='toc3_'></a>[Extra: Homework](#toc0_)\n",
    "\n",
    "Now that we've explored the pycaret module for regression, how about you also explore the [classification module](https://pycaret.readthedocs.io/en/stable/api/classification.html)?  \n",
    "\n",
    "Also... for those of you interested in more advanced topics, pycaret also has modules for:  \n",
    "- time series\n",
    "- anomaly detection, e.g. fraud prediction\n",
    "- clustering \n",
    "\n",
    "You can find some tutorials on all modules here: https://pycaret.gitbook.io/docs/get-started/tutorials"
   ]
  },
  {
   "cell_type": "markdown",
   "metadata": {},
   "source": [
    "# <a id='toc4_'></a>[Resources](#toc0_)"
   ]
  },
  {
   "cell_type": "code",
   "execution_count": null,
   "metadata": {},
   "outputs": [],
   "source": [
    "#https://towardsdatascience.com/how-to-use-pycaret-the-library-for-lazy-data-scientists-91343f960bd2"
   ]
  }
 ],
 "metadata": {
  "colab": {
   "provenance": []
  },
  "kernelspec": {
   "display_name": "Python 3",
   "name": "python3"
  },
  "language_info": {
   "codemirror_mode": {
    "name": "ipython",
    "version": 3
   },
   "file_extension": ".py",
   "mimetype": "text/x-python",
   "name": "python",
   "nbconvert_exporter": "python",
   "pygments_lexer": "ipython3",
   "version": "3.12.6"
  },
  "widgets": {
   "application/vnd.jupyter.widget-state+json": {
    "0eb23e20f6b04a86a58c1c193d5481fc": {
     "model_module": "@jupyter-widgets/controls",
     "model_module_version": "1.5.0",
     "model_name": "HBoxModel",
     "state": {
      "_dom_classes": [],
      "_model_module": "@jupyter-widgets/controls",
      "_model_module_version": "1.5.0",
      "_model_name": "HBoxModel",
      "_view_count": null,
      "_view_module": "@jupyter-widgets/controls",
      "_view_module_version": "1.5.0",
      "_view_name": "HBoxView",
      "box_style": "",
      "children": [
       "IPY_MODEL_4978b2c64187436ca294ef510263e668",
       "IPY_MODEL_1eae4830d06e42a6b344a535ad2faf8a",
       "IPY_MODEL_f05803c144ce4e74aad745fd5cf90426"
      ],
      "layout": "IPY_MODEL_cf9ab3afd5814a4ebed76d31ef6d7568"
     }
    },
    "1eae4830d06e42a6b344a535ad2faf8a": {
     "model_module": "@jupyter-widgets/controls",
     "model_module_version": "1.5.0",
     "model_name": "FloatProgressModel",
     "state": {
      "_dom_classes": [],
      "_model_module": "@jupyter-widgets/controls",
      "_model_module_version": "1.5.0",
      "_model_name": "FloatProgressModel",
      "_view_count": null,
      "_view_module": "@jupyter-widgets/controls",
      "_view_module_version": "1.5.0",
      "_view_name": "ProgressView",
      "bar_style": "",
      "description": "",
      "description_tooltip": null,
      "layout": "IPY_MODEL_a06aa8e0d0864aabaa410e8f5d1f9eeb",
      "max": 81,
      "min": 0,
      "orientation": "horizontal",
      "style": "IPY_MODEL_717ed9fe2201447d898da60d5ca0cdec",
      "value": 81
     }
    },
    "46d13fe25df942a1933620b297d40abe": {
     "model_module": "@jupyter-widgets/controls",
     "model_module_version": "1.5.0",
     "model_name": "DescriptionStyleModel",
     "state": {
      "_model_module": "@jupyter-widgets/controls",
      "_model_module_version": "1.5.0",
      "_model_name": "DescriptionStyleModel",
      "_view_count": null,
      "_view_module": "@jupyter-widgets/base",
      "_view_module_version": "1.2.0",
      "_view_name": "StyleView",
      "description_width": ""
     }
    },
    "4978b2c64187436ca294ef510263e668": {
     "model_module": "@jupyter-widgets/controls",
     "model_module_version": "1.5.0",
     "model_name": "HTMLModel",
     "state": {
      "_dom_classes": [],
      "_model_module": "@jupyter-widgets/controls",
      "_model_module_version": "1.5.0",
      "_model_name": "HTMLModel",
      "_view_count": null,
      "_view_module": "@jupyter-widgets/controls",
      "_view_module_version": "1.5.0",
      "_view_name": "HTMLView",
      "description": "",
      "description_tooltip": null,
      "layout": "IPY_MODEL_f293613faaba403190d78a2d7d0d211b",
      "placeholder": "​",
      "style": "IPY_MODEL_62992922593e4d00b44b8c257a2b1972",
      "value": "Processing: 100%"
     }
    },
    "62992922593e4d00b44b8c257a2b1972": {
     "model_module": "@jupyter-widgets/controls",
     "model_module_version": "1.5.0",
     "model_name": "DescriptionStyleModel",
     "state": {
      "_model_module": "@jupyter-widgets/controls",
      "_model_module_version": "1.5.0",
      "_model_name": "DescriptionStyleModel",
      "_view_count": null,
      "_view_module": "@jupyter-widgets/base",
      "_view_module_version": "1.2.0",
      "_view_name": "StyleView",
      "description_width": ""
     }
    },
    "717ed9fe2201447d898da60d5ca0cdec": {
     "model_module": "@jupyter-widgets/controls",
     "model_module_version": "1.5.0",
     "model_name": "ProgressStyleModel",
     "state": {
      "_model_module": "@jupyter-widgets/controls",
      "_model_module_version": "1.5.0",
      "_model_name": "ProgressStyleModel",
      "_view_count": null,
      "_view_module": "@jupyter-widgets/base",
      "_view_module_version": "1.2.0",
      "_view_name": "StyleView",
      "bar_color": null,
      "description_width": ""
     }
    },
    "9830d87c17924508be04be9a4313b1e4": {
     "model_module": "@jupyter-widgets/base",
     "model_module_version": "1.2.0",
     "model_name": "LayoutModel",
     "state": {
      "_model_module": "@jupyter-widgets/base",
      "_model_module_version": "1.2.0",
      "_model_name": "LayoutModel",
      "_view_count": null,
      "_view_module": "@jupyter-widgets/base",
      "_view_module_version": "1.2.0",
      "_view_name": "LayoutView",
      "align_content": null,
      "align_items": null,
      "align_self": null,
      "border": null,
      "bottom": null,
      "display": null,
      "flex": null,
      "flex_flow": null,
      "grid_area": null,
      "grid_auto_columns": null,
      "grid_auto_flow": null,
      "grid_auto_rows": null,
      "grid_column": null,
      "grid_gap": null,
      "grid_row": null,
      "grid_template_areas": null,
      "grid_template_columns": null,
      "grid_template_rows": null,
      "height": null,
      "justify_content": null,
      "justify_items": null,
      "left": null,
      "margin": null,
      "max_height": null,
      "max_width": null,
      "min_height": null,
      "min_width": null,
      "object_fit": null,
      "object_position": null,
      "order": null,
      "overflow": null,
      "overflow_x": null,
      "overflow_y": null,
      "padding": null,
      "right": null,
      "top": null,
      "visibility": null,
      "width": null
     }
    },
    "a06aa8e0d0864aabaa410e8f5d1f9eeb": {
     "model_module": "@jupyter-widgets/base",
     "model_module_version": "1.2.0",
     "model_name": "LayoutModel",
     "state": {
      "_model_module": "@jupyter-widgets/base",
      "_model_module_version": "1.2.0",
      "_model_name": "LayoutModel",
      "_view_count": null,
      "_view_module": "@jupyter-widgets/base",
      "_view_module_version": "1.2.0",
      "_view_name": "LayoutView",
      "align_content": null,
      "align_items": null,
      "align_self": null,
      "border": null,
      "bottom": null,
      "display": null,
      "flex": null,
      "flex_flow": null,
      "grid_area": null,
      "grid_auto_columns": null,
      "grid_auto_flow": null,
      "grid_auto_rows": null,
      "grid_column": null,
      "grid_gap": null,
      "grid_row": null,
      "grid_template_areas": null,
      "grid_template_columns": null,
      "grid_template_rows": null,
      "height": null,
      "justify_content": null,
      "justify_items": null,
      "left": null,
      "margin": null,
      "max_height": null,
      "max_width": null,
      "min_height": null,
      "min_width": null,
      "object_fit": null,
      "object_position": null,
      "order": null,
      "overflow": null,
      "overflow_x": null,
      "overflow_y": null,
      "padding": null,
      "right": null,
      "top": null,
      "visibility": null,
      "width": null
     }
    },
    "cf9ab3afd5814a4ebed76d31ef6d7568": {
     "model_module": "@jupyter-widgets/base",
     "model_module_version": "1.2.0",
     "model_name": "LayoutModel",
     "state": {
      "_model_module": "@jupyter-widgets/base",
      "_model_module_version": "1.2.0",
      "_model_name": "LayoutModel",
      "_view_count": null,
      "_view_module": "@jupyter-widgets/base",
      "_view_module_version": "1.2.0",
      "_view_name": "LayoutView",
      "align_content": null,
      "align_items": null,
      "align_self": null,
      "border": null,
      "bottom": null,
      "display": null,
      "flex": null,
      "flex_flow": null,
      "grid_area": null,
      "grid_auto_columns": null,
      "grid_auto_flow": null,
      "grid_auto_rows": null,
      "grid_column": null,
      "grid_gap": null,
      "grid_row": null,
      "grid_template_areas": null,
      "grid_template_columns": null,
      "grid_template_rows": null,
      "height": null,
      "justify_content": null,
      "justify_items": null,
      "left": null,
      "margin": null,
      "max_height": null,
      "max_width": null,
      "min_height": null,
      "min_width": null,
      "object_fit": null,
      "object_position": null,
      "order": null,
      "overflow": null,
      "overflow_x": null,
      "overflow_y": null,
      "padding": null,
      "right": null,
      "top": null,
      "visibility": "hidden",
      "width": null
     }
    },
    "f05803c144ce4e74aad745fd5cf90426": {
     "model_module": "@jupyter-widgets/controls",
     "model_module_version": "1.5.0",
     "model_name": "HTMLModel",
     "state": {
      "_dom_classes": [],
      "_model_module": "@jupyter-widgets/controls",
      "_model_module_version": "1.5.0",
      "_model_name": "HTMLModel",
      "_view_count": null,
      "_view_module": "@jupyter-widgets/controls",
      "_view_module_version": "1.5.0",
      "_view_name": "HTMLView",
      "description": "",
      "description_tooltip": null,
      "layout": "IPY_MODEL_9830d87c17924508be04be9a4313b1e4",
      "placeholder": "​",
      "style": "IPY_MODEL_46d13fe25df942a1933620b297d40abe",
      "value": " 81/81 [03:06&lt;00:00,  1.03it/s]"
     }
    },
    "f293613faaba403190d78a2d7d0d211b": {
     "model_module": "@jupyter-widgets/base",
     "model_module_version": "1.2.0",
     "model_name": "LayoutModel",
     "state": {
      "_model_module": "@jupyter-widgets/base",
      "_model_module_version": "1.2.0",
      "_model_name": "LayoutModel",
      "_view_count": null,
      "_view_module": "@jupyter-widgets/base",
      "_view_module_version": "1.2.0",
      "_view_name": "LayoutView",
      "align_content": null,
      "align_items": null,
      "align_self": null,
      "border": null,
      "bottom": null,
      "display": null,
      "flex": null,
      "flex_flow": null,
      "grid_area": null,
      "grid_auto_columns": null,
      "grid_auto_flow": null,
      "grid_auto_rows": null,
      "grid_column": null,
      "grid_gap": null,
      "grid_row": null,
      "grid_template_areas": null,
      "grid_template_columns": null,
      "grid_template_rows": null,
      "height": null,
      "justify_content": null,
      "justify_items": null,
      "left": null,
      "margin": null,
      "max_height": null,
      "max_width": null,
      "min_height": null,
      "min_width": null,
      "object_fit": null,
      "object_position": null,
      "order": null,
      "overflow": null,
      "overflow_x": null,
      "overflow_y": null,
      "padding": null,
      "right": null,
      "top": null,
      "visibility": null,
      "width": null
     }
    }
   }
  }
 },
 "nbformat": 4,
 "nbformat_minor": 0
}
